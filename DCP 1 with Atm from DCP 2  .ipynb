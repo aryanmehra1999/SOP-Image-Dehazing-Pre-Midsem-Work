{
 "cells": [
  {
   "cell_type": "code",
   "execution_count": 84,
   "metadata": {},
   "outputs": [],
   "source": [
    "import math;\n",
    "import numpy as np;\n",
    "import cv2"
   ]
  },
  {
   "cell_type": "code",
   "execution_count": 85,
   "metadata": {},
   "outputs": [],
   "source": [
    "def DarkChannel(im,sz):\n",
    "    b,g,r = cv2.split(im)\n",
    "    dc = cv2.min(cv2.min(r,g),b);\n",
    "    kernel = cv2.getStructuringElement(cv2.MORPH_RECT,(sz,sz))\n",
    "    dark = cv2.erode(dc,kernel)\n",
    "    return dark"
   ]
  },
  {
   "cell_type": "code",
   "execution_count": 86,
   "metadata": {},
   "outputs": [],
   "source": [
    "def AtmLight(im,dark):\n",
    "    [h,w] = im.shape[:2]\n",
    "    imsz = h*w\n",
    "    \n",
    "    \n",
    "    imvec = im.reshape(imsz,3);\n",
    "    \n",
    "    #Original Old way for DCP 1\n",
    "    numpx = int(max(math.floor(imsz/1000),1))\n",
    "    darkvec = dark.reshape(imsz,1);\n",
    "    indices = darkvec.argsort();\n",
    "    indices = indices[imsz-numpx::]\n",
    "\n",
    "    atmsum = np.zeros([1,3])\n",
    "    for ind in range(1,numpx):\n",
    "       atmsum = atmsum + imvec[indices[ind]]\n",
    "\n",
    "    A1_old = atmsum / numpx;\n",
    "    \n",
    "    #New Way with 0.1 percent from DCP 2\n",
    "    darkvec = dark.ravel()\n",
    "    count = math.ceil(h * w * 0.1 / 100)\n",
    "    indices = np.argpartition(darkvec, -count)[:-count]\n",
    "    A2_new = np.amax(np.take(imvec, indices, axis=0), axis=0)\n",
    "    \n",
    "    A2_new = np.reshape(A2_new,A1_old.shape)\n",
    "    \n",
    "    print(A2_new) # more\n",
    "    print(A1_old) # less\n",
    "    print((A2_new+A1_old)/2)\n",
    "    print(\"Next\")\n",
    "    \n",
    "    return ((A2_new+A1_old)/2)"
   ]
  },
  {
   "cell_type": "code",
   "execution_count": 87,
   "metadata": {},
   "outputs": [],
   "source": [
    "def TransmissionEstimate(im,A,sz):\n",
    "    omega = 0.95;\n",
    "    im3 = np.empty(im.shape,im.dtype);\n",
    "\n",
    "    for ind in range(0,3):\n",
    "        im3[:,:,ind] = im[:,:,ind]/A[0,ind]\n",
    "\n",
    "    transmission = 1 - omega*DarkChannel(im3,sz);\n",
    "    return transmission"
   ]
  },
  {
   "cell_type": "code",
   "execution_count": 88,
   "metadata": {},
   "outputs": [],
   "source": [
    "def Guidedfilter(im,p,r,eps):\n",
    "    mean_I = cv2.boxFilter(im,cv2.CV_64F,(r,r));\n",
    "    mean_p = cv2.boxFilter(p, cv2.CV_64F,(r,r));\n",
    "    mean_Ip = cv2.boxFilter(im*p,cv2.CV_64F,(r,r));\n",
    "    cov_Ip = mean_Ip - mean_I*mean_p;\n",
    "\n",
    "    mean_II = cv2.boxFilter(im*im,cv2.CV_64F,(r,r));\n",
    "    var_I   = mean_II - mean_I*mean_I;\n",
    "\n",
    "    a = cov_Ip/(var_I + eps);\n",
    "    b = mean_p - a*mean_I;\n",
    "\n",
    "    mean_a = cv2.boxFilter(a,cv2.CV_64F,(r,r));\n",
    "    mean_b = cv2.boxFilter(b,cv2.CV_64F,(r,r));\n",
    "\n",
    "    q = mean_a*im + mean_b;\n",
    "    return q;"
   ]
  },
  {
   "cell_type": "code",
   "execution_count": 89,
   "metadata": {},
   "outputs": [],
   "source": [
    "def TransmissionRefine(im,et):\n",
    "    gray = cv2.cvtColor(im,cv2.COLOR_BGR2GRAY);\n",
    "    gray = np.float64(gray)/255;\n",
    "    r = 60;\n",
    "    eps = 0.0001;\n",
    "    t = Guidedfilter(gray,et,r,eps);\n",
    "\n",
    "    return t;"
   ]
  },
  {
   "cell_type": "code",
   "execution_count": 90,
   "metadata": {},
   "outputs": [],
   "source": [
    "def Recover(im,t,A,tx = 0.1):\n",
    "    res = np.empty(im.shape,im.dtype);\n",
    "    t = cv2.max(t,tx);\n",
    "\n",
    "    for ind in range(0,3):\n",
    "        res[:,:,ind] = (im[:,:,ind]-A[0,ind])/t + A[0,ind]\n",
    "\n",
    "    return res"
   ]
  },
  {
   "cell_type": "code",
   "execution_count": 91,
   "metadata": {},
   "outputs": [
    {
     "name": "stdout",
     "output_type": "stream",
     "text": [
      "[[0.90980392 0.86666667 0.84313725]]\n",
      "[[0.85837623 0.79566381 0.76822712]]\n",
      "[[0.88409007 0.83116524 0.80568219]]\n",
      "Next\n",
      "[[0.8745098  0.81568627 0.80392157]]\n",
      "[[0.83093954 0.76038807 0.73295139]]\n",
      "[[0.85272467 0.78803717 0.76843648]]\n",
      "Next\n",
      "[[0.63921569 0.62745098 0.65882353]]\n",
      "[[0.61928513 0.58792892 0.57225082]]\n",
      "[[0.62925041 0.60768995 0.61553717]]\n",
      "Next\n",
      "[[0.64313725 0.65882353 0.67058824]]\n",
      "[[0.56441176 0.56833129 0.56049224]]\n",
      "[[0.60377451 0.61357741 0.61554024]]\n",
      "Next\n",
      "[[0.92941176 0.92941176 0.92941176]]\n",
      "[[0.14894199 0.14110294 0.13718342]]\n",
      "[[0.53917688 0.53525735 0.53329759]]\n",
      "Next\n"
     ]
    }
   ],
   "source": [
    "if __name__ == '__main__':\n",
    "    import sys\n",
    "    \n",
    "    for i in range(46,51):\n",
    "        fn = './ValidationHazy/' + str(i)+ '.png'\n",
    "\n",
    "        def nothing(*argv):\n",
    "            pass\n",
    "\n",
    "        src = cv2.imread(fn);\n",
    "\n",
    "        I = src.astype('float64')/255;\n",
    " \n",
    "        dark = DarkChannel(I,15);\n",
    "        A = AtmLight(I,dark);\n",
    "        te = TransmissionEstimate(I,A,15);\n",
    "        t = TransmissionRefine(src,te);\n",
    "        J = Recover(I,t,A,0.1);\n",
    "      \n",
    "        cv2.imwrite(\"./Submit/\"+str(i)+\".png\",J*255);\n",
    "    \n",
    " "
   ]
  },
  {
   "cell_type": "code",
   "execution_count": null,
   "metadata": {},
   "outputs": [],
   "source": []
  },
  {
   "cell_type": "code",
   "execution_count": null,
   "metadata": {},
   "outputs": [],
   "source": []
  }
 ],
 "metadata": {
  "kernelspec": {
   "display_name": "Python 3",
   "language": "python",
   "name": "python3"
  },
  "language_info": {
   "codemirror_mode": {
    "name": "ipython",
    "version": 3
   },
   "file_extension": ".py",
   "mimetype": "text/x-python",
   "name": "python",
   "nbconvert_exporter": "python",
   "pygments_lexer": "ipython3",
   "version": "3.6.5"
  }
 },
 "nbformat": 4,
 "nbformat_minor": 2
}
