{
 "cells": [
  {
   "cell_type": "code",
   "execution_count": 23,
   "metadata": {},
   "outputs": [],
   "source": [
    "import math\n",
    "import numpy as np\n",
    "import cv2 as cv\n",
    "import os\n",
    "import shutil\n",
    "import sys\n"
   ]
  },
  {
   "cell_type": "code",
   "execution_count": 4,
   "metadata": {},
   "outputs": [],
   "source": [
    "L = 256\n",
    "\n",
    "count = 0\n",
    "\n",
    "def get_dark_channel(img, *, size):\n",
    "    \"\"\"Get dark channel for an image.\n",
    "    @param img: The source image.\n",
    "    @param size: Patch size.\n",
    "    @return The dark channel of the image.\n",
    "    \"\"\"\n",
    "    minch = np.amin(img, axis=2)\n",
    "    box = cv.getStructuringElement(cv.MORPH_RECT, (size // 2, size // 2))\n",
    "    return cv.erode(minch, box)"
   ]
  },
  {
   "cell_type": "code",
   "execution_count": 5,
   "metadata": {},
   "outputs": [],
   "source": [
    "def get_atmospheric_light(img, *, size, percent):\n",
    "    \"\"\"Estimate atmospheric light for an image.\n",
    "    @param img: the source image.\n",
    "    @param size: Patch size for calculating the dark channel.\n",
    "    @param percent: Percentage of brightest pixels in the dark channel\n",
    "    considered for the estimation.\n",
    "    @return The estimated atmospheric light.\n",
    "    \"\"\"\n",
    "    m, n, _ = img.shape\n",
    "\n",
    "    flat_img = img.reshape(m * n, 3)\n",
    "    flat_dark = get_dark_channel(img, size=size).ravel()\n",
    "    count = math.ceil(m * n * percent / 100)\n",
    "    indices = np.argpartition(flat_dark, -count)[:-count]\n",
    "\n",
    "    return np.amax(np.take(flat_img, indices, axis=0), axis=0)\n"
   ]
  },
  {
   "cell_type": "code",
   "execution_count": 6,
   "metadata": {},
   "outputs": [],
   "source": [
    "def get_transmission(img, atmosphere, *, size, omega, radius, epsilon):\n",
    "    \"\"\"Estimate transmission map of an image.\n",
    "    @param img: The source image.\n",
    "    @param atmosphere: The atmospheric light for the image.\n",
    "    @param omega: Factor to preserve minor amounts of haze [1].\n",
    "    @param radius: (default: 40) Radius for the guided filter [2].\n",
    "    @param epsilon: (default: 0.001) Epsilon for the guided filter [2].\n",
    "    @return The transmission map for the source image.\n",
    "    \"\"\"\n",
    "    division = np.float64(img) / np.float64(atmosphere)\n",
    "    raw = (1 - omega * get_dark_channel(division, size=size)).astype(np.float32)\n",
    "    return cv.ximgproc.guidedFilter(img, raw, radius, epsilon)\n"
   ]
  },
  {
   "cell_type": "code",
   "execution_count": 27,
   "metadata": {},
   "outputs": [],
   "source": [
    "def get_scene_radiance(img,\n",
    "                       *,\n",
    "                       size=15,\n",
    "                       omega=0.95,\n",
    "                       trans_lb=0.1,\n",
    "                       percent=0.1,\n",
    "                       radius=40,\n",
    "                       epsilon=0.001):\n",
    "    \"\"\"Get recovered scene radiance for a hazy image.\n",
    "    @param img: The source image to be dehazed.\n",
    "    @param omega: (default: 0.95) Factor to preserve minor amounts of haze [1].\n",
    "    @param trans_lb: (default: 0.1) Lower bound for transmission [1].\n",
    "    @param size: (default: 15) Patch size for filtering etc [1].\n",
    "    @param percent: (default: 0.1) Percentage of pixels chosen to compute atmospheric light [1].\n",
    "    @param radius: (default: 40) Radius for the guided filter [2].\n",
    "    @param epsilon: (default: 0.001) Epsilon for the guided filter [2].\n",
    "    @return The final dehazed image.\n",
    "    \"\"\"\n",
    "    atmosphere = get_atmospheric_light(img, size=size, percent=percent)\n",
    "    trans = get_transmission(img, atmosphere, size=size, omega=omega, radius=radius, epsilon=epsilon)\n",
    "    \n",
    "    #cv.imwrite('./Trans2/'+count+'.jpg',trans)\n",
    "    \n",
    "    clamped = np.clip(trans, trans_lb, omega)[:, :, None]\n",
    "    img = np.float64(img)\n",
    "    return np.uint8(((img - atmosphere) / clamped + atmosphere).clip(0, L - 1))"
   ]
  },
  {
   "cell_type": "code",
   "execution_count": 30,
   "metadata": {},
   "outputs": [],
   "source": [
    "def process_imgdir(imgdir):\n",
    "    resultdir = os.path.join(imgdir, 'Submit2')\n",
    "    inputdir = os.path.join(imgdir, 'ValidationHazy')\n",
    "    shutil.rmtree(resultdir)\n",
    "    os.mkdir(resultdir)\n",
    "    for fullname in os.listdir(inputdir):\n",
    "        filepath = os.path.join(inputdir, fullname)\n",
    "        if os.path.isfile(filepath):\n",
    "            basename = os.path.basename(filepath)\n",
    "            image = cv.imread(filepath, cv.IMREAD_COLOR)\n",
    "            if len(image.shape) == 3 and image.shape[2] == 3:\n",
    "                print('Processing %s ...' % basename)\n",
    "            else:\n",
    "                sys.stderr.write('Skipping %s, not RGB' % basename)\n",
    "                continue\n",
    "            dehazed = get_scene_radiance(image)\n",
    "            #side_by_side = np.concatenate((image, dehazed), axis=1)\n",
    "            cv.imwrite(os.path.join(resultdir, basename), dehazed)"
   ]
  },
  {
   "cell_type": "code",
   "execution_count": 32,
   "metadata": {},
   "outputs": [
    {
     "name": "stdout",
     "output_type": "stream",
     "text": [
      "Processing 46.png ...\n",
      "Processing 47.png ...\n",
      "Processing 48.png ...\n",
      "Processing 49.png ...\n",
      "Processing 50.png ...\n"
     ]
    }
   ],
   "source": [
    "def main():\n",
    "    scriptdir = os.path.dirname(os.path.realpath('__file__'))\n",
    "    imgdir = os.path.join(scriptdir, 'img')\n",
    "    process_imgdir(imgdir)\n",
    "\n",
    "\n",
    "if __name__ == '__main__':\n",
    "    main()"
   ]
  },
  {
   "cell_type": "code",
   "execution_count": null,
   "metadata": {},
   "outputs": [],
   "source": []
  },
  {
   "cell_type": "code",
   "execution_count": null,
   "metadata": {},
   "outputs": [],
   "source": []
  }
 ],
 "metadata": {
  "kernelspec": {
   "display_name": "Python 3",
   "language": "python",
   "name": "python3"
  },
  "language_info": {
   "codemirror_mode": {
    "name": "ipython",
    "version": 3
   },
   "file_extension": ".py",
   "mimetype": "text/x-python",
   "name": "python",
   "nbconvert_exporter": "python",
   "pygments_lexer": "ipython3",
   "version": "3.6.5"
  }
 },
 "nbformat": 4,
 "nbformat_minor": 2
}
