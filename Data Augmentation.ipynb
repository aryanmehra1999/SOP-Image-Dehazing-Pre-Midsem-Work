{
 "cells": [
  {
   "cell_type": "code",
   "execution_count": 22,
   "metadata": {},
   "outputs": [],
   "source": [
    "import tensorflow as tf\n",
    "import numpy as np\n",
    "import cv2"
   ]
  },
  {
   "cell_type": "code",
   "execution_count": 23,
   "metadata": {},
   "outputs": [],
   "source": [
    "for i in range (1,46):\n",
    "    \n",
    "    img = cv2.imread(\"./TrainHazy/\" +str(i) +\".png\" )\n",
    "    trans = cv2.imread(\"./TransGT/\" +str(i) +\".png\" )\n",
    "    \n",
    "    cv2.imwrite(\"./Augmented_Data_Hazy/\" + str(i) + \".png\",img)\n",
    "    cv2.imwrite(\"./Augmented_Data_TransGT/\" + str(i) + \".png\",trans)\n",
    "    \n",
    "    "
   ]
  },
  {
   "cell_type": "code",
   "execution_count": 24,
   "metadata": {},
   "outputs": [],
   "source": [
    "for i in range (1,46):\n",
    "    \n",
    "    img = cv2.imread(\"./TrainHazy/\" +str(i) +\".png\" )\n",
    "    trans = cv2.imread(\"./TransGT/\" +str(i) +\".png\" )\n",
    "    \n",
    "    #Flipping left right\n",
    "    \n",
    "    newimage = np.fliplr(img)\n",
    "    newtrans = np.fliplr(trans)\n",
    "\n",
    "    cv2.imwrite(\"./Augmented_Data_Hazy/\" + str(i+45) + \".png\",newimage)\n",
    "    cv2.imwrite(\"./Augmented_Data_TransGT/\" + str(i+45) + \".png\",newtrans)\n",
    "    \n",
    "    "
   ]
  },
  {
   "cell_type": "code",
   "execution_count": 25,
   "metadata": {},
   "outputs": [],
   "source": [
    "for i in range (1,46):\n",
    "    \n",
    "    # Read from \n",
    "    img = cv2.imread(\"./TrainHazy/\" +str(i) +\".png\" )\n",
    "    trans = cv2.imread(\"./TransGT/\" +str(i) +\".png\" )\n",
    "    \n",
    "    #Flipping up down\n",
    "    \n",
    "    newimage = np.flipud(img)\n",
    "    newtrans = np.flipud(trans)\n",
    "    \n",
    "    cv2.imwrite(\"./Augmented_Data_Hazy/\" + str(i+90) + \".png\",newimage)\n",
    "    cv2.imwrite(\"./Augmented_Data_TransGT/\" + str(i+90) + \".png\",newtrans)\n",
    "    \n",
    "    "
   ]
  },
  {
   "cell_type": "code",
   "execution_count": 26,
   "metadata": {},
   "outputs": [],
   "source": [
    "for i in range (46,91):\n",
    "    \n",
    "    img = cv2.imread(\"./Augmented_Data_Hazy/\" +str(i) +\".png\" )\n",
    "    trans = cv2.imread(\"./Augmented_Data_TransGT/\" +str(i) +\".png\" )\n",
    "    \n",
    "    #Flipping up and down\n",
    "    \n",
    "    newimage = np.flipud(img)\n",
    "    newtrans = np.flipud(trans)\n",
    "    \n",
    "    cv2.imwrite(\"./Augmented_Data_Hazy/\" + str(i+90) + \".png\",newimage)\n",
    "    cv2.imwrite(\"./Augmented_Data_TransGT/\" + str(i+90) + \".png\",newtrans)"
   ]
  },
  {
   "cell_type": "code",
   "execution_count": null,
   "metadata": {},
   "outputs": [],
   "source": []
  }
 ],
 "metadata": {
  "kernelspec": {
   "display_name": "Python 3",
   "language": "python",
   "name": "python3"
  },
  "language_info": {
   "codemirror_mode": {
    "name": "ipython",
    "version": 3
   },
   "file_extension": ".py",
   "mimetype": "text/x-python",
   "name": "python",
   "nbconvert_exporter": "python",
   "pygments_lexer": "ipython3",
   "version": "3.6.5"
  }
 },
 "nbformat": 4,
 "nbformat_minor": 2
}
